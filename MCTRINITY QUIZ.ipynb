{
 "cells": [
  {
   "cell_type": "code",
   "execution_count": 1,
   "id": "9d6535e5",
   "metadata": {},
   "outputs": [],
   "source": [
    "import pandas as pd\n",
    "import numpy as np"
   ]
  },
  {
   "cell_type": "code",
   "execution_count": null,
   "id": "e1df267a",
   "metadata": {},
   "outputs": [],
   "source": []
  },
  {
   "cell_type": "code",
   "execution_count": 2,
   "id": "34848777",
   "metadata": {},
   "outputs": [
    {
     "name": "stdout",
     "output_type": "stream",
     "text": [
      "       Area Code      Area  Item Code           Item  Element Code  \\\n",
      "0              4   Algeria       2501     Population           511   \n",
      "1              4   Algeria       2501     Population          5301   \n",
      "2              4   Algeria       2901    Grand Total           664   \n",
      "3              4   Algeria       2901    Grand Total           674   \n",
      "4              4   Algeria       2901    Grand Total           684   \n",
      "...          ...       ...        ...            ...           ...   \n",
      "60938        181  Zimbabwe       2899  Miscellaneous          5142   \n",
      "60939        181  Zimbabwe       2899  Miscellaneous           645   \n",
      "60940        181  Zimbabwe       2899  Miscellaneous           664   \n",
      "60941        181  Zimbabwe       2899  Miscellaneous           674   \n",
      "60942        181  Zimbabwe       2899  Miscellaneous           684   \n",
      "\n",
      "                                      Element             Unit     Y2014  \\\n",
      "0               Total Population - Both sexes     1000 persons  38924.00   \n",
      "1                    Domestic supply quantity      1000 tonnes      0.00   \n",
      "2               Food supply (kcal/capita/day)  kcal/capita/day   3377.00   \n",
      "3      Protein supply quantity (g/capita/day)     g/capita/day     94.90   \n",
      "4          Fat supply quantity (g/capita/day)     g/capita/day     80.06   \n",
      "...                                       ...              ...       ...   \n",
      "60938                                    Food      1000 tonnes     42.00   \n",
      "60939     Food supply quantity (kg/capita/yr)               kg      3.06   \n",
      "60940           Food supply (kcal/capita/day)  kcal/capita/day      3.00   \n",
      "60941  Protein supply quantity (g/capita/day)     g/capita/day      0.10   \n",
      "60942      Fat supply quantity (g/capita/day)     g/capita/day      0.04   \n",
      "\n",
      "          Y2015     Y2016     Y2017     Y2018  \n",
      "0      39728.00  40551.00  41389.00  42228.00  \n",
      "1          0.00      0.00      0.00      0.00  \n",
      "2       3379.00   3372.00   3341.00   3322.00  \n",
      "3         94.35     94.72     92.82     91.83  \n",
      "4         79.36     77.40     80.19     77.28  \n",
      "...         ...       ...       ...       ...  \n",
      "60938     46.00     33.00     19.00     16.00  \n",
      "60939      3.33      2.35      1.33      1.08  \n",
      "60940      4.00      3.00      1.00      1.00  \n",
      "60941      0.11      0.08      0.04      0.04  \n",
      "60942      0.05      0.03      0.02      0.01  \n",
      "\n",
      "[60943 rows x 12 columns]\n"
     ]
    }
   ],
   "source": [
    "csv_df = pd.read_csv('FoodBalanceSheets_E_Africa_NOFLAG.csv', encoding = 'Latin-1' )\n",
    "print(csv_df)"
   ]
  },
  {
   "cell_type": "code",
   "execution_count": 3,
   "id": "24462dc5",
   "metadata": {},
   "outputs": [
    {
     "data": {
      "text/plain": [
       "Item\n",
       "Alcohol, Non-Food      283\n",
       "Alcoholic Beverages    564\n",
       "Animal Products        135\n",
       "Animal fats            639\n",
       "Apples and products    517\n",
       "                      ... \n",
       "Vegetables, Other      583\n",
       "Vegetal Products       135\n",
       "Wheat and products     653\n",
       "Wine                   497\n",
       "Yams                   383\n",
       "Name: Item, Length: 119, dtype: int64"
      ]
     },
     "execution_count": 3,
     "metadata": {},
     "output_type": "execute_result"
    }
   ],
   "source": [
    "#SUM GROUP BY ITEM\n",
    "csv_df.groupby('Item')['Item'].count()"
   ]
  },
  {
   "cell_type": "code",
   "execution_count": 4,
   "id": "641e22b8",
   "metadata": {},
   "outputs": [
    {
     "name": "stdout",
     "output_type": "stream",
     "text": [
      "Area Code        134.265576\n",
      "Item Code       2687.176706\n",
      "Element Code    3814.856456\n",
      "Y2014            134.196282\n",
      "Y2015            135.235966\n",
      "Y2016            136.555222\n",
      "Y2017            140.917765\n",
      "Y2018            143.758381\n",
      "dtype: float64\n",
      "Area Code         72.605709\n",
      "Item Code        146.055739\n",
      "Element Code    2212.007033\n",
      "Y2014           1567.663696\n",
      "Y2015           1603.403984\n",
      "Y2016           1640.007194\n",
      "Y2017           1671.862359\n",
      "Y2018           1710.782658\n",
      "dtype: float64\n"
     ]
    },
    {
     "name": "stderr",
     "output_type": "stream",
     "text": [
      "C:\\Users\\USER\\AppData\\Local\\Temp/ipykernel_4496/3984851570.py:2: FutureWarning: Dropping of nuisance columns in DataFrame reductions (with 'numeric_only=None') is deprecated; in a future version this will raise TypeError.  Select only valid columns before calling the reduction.\n",
      "  print(csv_df.mean())\n",
      "C:\\Users\\USER\\AppData\\Local\\Temp/ipykernel_4496/3984851570.py:3: FutureWarning: Dropping of nuisance columns in DataFrame reductions (with 'numeric_only=None') is deprecated; in a future version this will raise TypeError.  Select only valid columns before calling the reduction.\n",
      "  print(csv_df.std())\n"
     ]
    }
   ],
   "source": [
    "#TO FIND MEAN\n",
    "print(csv_df.mean())\n",
    "print(csv_df.std())\n"
   ]
  },
  {
   "cell_type": "code",
   "execution_count": 5,
   "id": "e2ab6693",
   "metadata": {},
   "outputs": [
    {
     "data": {
      "text/plain": [
       "Area Code          0\n",
       "Area               0\n",
       "Item Code          0\n",
       "Item               0\n",
       "Element Code       0\n",
       "Element            0\n",
       "Unit               0\n",
       "Y2014           1589\n",
       "Y2015           1548\n",
       "Y2016           1535\n",
       "Y2017           1506\n",
       "Y2018           1436\n",
       "dtype: int64"
      ]
     },
     "execution_count": 5,
     "metadata": {},
     "output_type": "execute_result"
    }
   ],
   "source": [
    "#missing data\n",
    "csv_df.isnull().sum()"
   ]
  },
  {
   "cell_type": "code",
   "execution_count": 30,
   "id": "0f2ce7dc",
   "metadata": {},
   "outputs": [
    {
     "data": {
      "text/html": [
       "<div>\n",
       "<style scoped>\n",
       "    .dataframe tbody tr th:only-of-type {\n",
       "        vertical-align: middle;\n",
       "    }\n",
       "\n",
       "    .dataframe tbody tr th {\n",
       "        vertical-align: top;\n",
       "    }\n",
       "\n",
       "    .dataframe thead th {\n",
       "        text-align: right;\n",
       "    }\n",
       "</style>\n",
       "<table border=\"1\" class=\"dataframe\">\n",
       "  <thead>\n",
       "    <tr style=\"text-align: right;\">\n",
       "      <th></th>\n",
       "      <th>Area Code</th>\n",
       "      <th>Item Code</th>\n",
       "      <th>Element Code</th>\n",
       "      <th>Y2014</th>\n",
       "      <th>Y2015</th>\n",
       "      <th>Y2016</th>\n",
       "      <th>Y2017</th>\n",
       "      <th>Y2018</th>\n",
       "    </tr>\n",
       "  </thead>\n",
       "  <tbody>\n",
       "    <tr>\n",
       "      <th>Area Code</th>\n",
       "      <td>1.000000</td>\n",
       "      <td>-0.005159</td>\n",
       "      <td>-0.000209</td>\n",
       "      <td>0.006164</td>\n",
       "      <td>0.005472</td>\n",
       "      <td>0.005247</td>\n",
       "      <td>0.005006</td>\n",
       "      <td>0.005665</td>\n",
       "    </tr>\n",
       "    <tr>\n",
       "      <th>Item Code</th>\n",
       "      <td>-0.005159</td>\n",
       "      <td>1.000000</td>\n",
       "      <td>-0.024683</td>\n",
       "      <td>0.021722</td>\n",
       "      <td>0.020857</td>\n",
       "      <td>0.020109</td>\n",
       "      <td>0.021494</td>\n",
       "      <td>0.021314</td>\n",
       "    </tr>\n",
       "    <tr>\n",
       "      <th>Element Code</th>\n",
       "      <td>-0.000209</td>\n",
       "      <td>-0.024683</td>\n",
       "      <td>1.000000</td>\n",
       "      <td>0.024457</td>\n",
       "      <td>0.023889</td>\n",
       "      <td>0.023444</td>\n",
       "      <td>0.024254</td>\n",
       "      <td>0.024279</td>\n",
       "    </tr>\n",
       "    <tr>\n",
       "      <th>Y2014</th>\n",
       "      <td>0.006164</td>\n",
       "      <td>0.021722</td>\n",
       "      <td>0.024457</td>\n",
       "      <td>1.000000</td>\n",
       "      <td>0.994647</td>\n",
       "      <td>0.996081</td>\n",
       "      <td>0.995230</td>\n",
       "      <td>0.994872</td>\n",
       "    </tr>\n",
       "    <tr>\n",
       "      <th>Y2015</th>\n",
       "      <td>0.005472</td>\n",
       "      <td>0.020857</td>\n",
       "      <td>0.023889</td>\n",
       "      <td>0.994647</td>\n",
       "      <td>1.000000</td>\n",
       "      <td>0.995739</td>\n",
       "      <td>0.988048</td>\n",
       "      <td>0.988208</td>\n",
       "    </tr>\n",
       "    <tr>\n",
       "      <th>Y2016</th>\n",
       "      <td>0.005247</td>\n",
       "      <td>0.020109</td>\n",
       "      <td>0.023444</td>\n",
       "      <td>0.996081</td>\n",
       "      <td>0.995739</td>\n",
       "      <td>1.000000</td>\n",
       "      <td>0.992785</td>\n",
       "      <td>0.992757</td>\n",
       "    </tr>\n",
       "    <tr>\n",
       "      <th>Y2017</th>\n",
       "      <td>0.005006</td>\n",
       "      <td>0.021494</td>\n",
       "      <td>0.024254</td>\n",
       "      <td>0.995230</td>\n",
       "      <td>0.988048</td>\n",
       "      <td>0.992785</td>\n",
       "      <td>1.000000</td>\n",
       "      <td>0.998103</td>\n",
       "    </tr>\n",
       "    <tr>\n",
       "      <th>Y2018</th>\n",
       "      <td>0.005665</td>\n",
       "      <td>0.021314</td>\n",
       "      <td>0.024279</td>\n",
       "      <td>0.994872</td>\n",
       "      <td>0.988208</td>\n",
       "      <td>0.992757</td>\n",
       "      <td>0.998103</td>\n",
       "      <td>1.000000</td>\n",
       "    </tr>\n",
       "  </tbody>\n",
       "</table>\n",
       "</div>"
      ],
      "text/plain": [
       "              Area Code  Item Code  Element Code     Y2014     Y2015  \\\n",
       "Area Code      1.000000  -0.005159     -0.000209  0.006164  0.005472   \n",
       "Item Code     -0.005159   1.000000     -0.024683  0.021722  0.020857   \n",
       "Element Code  -0.000209  -0.024683      1.000000  0.024457  0.023889   \n",
       "Y2014          0.006164   0.021722      0.024457  1.000000  0.994647   \n",
       "Y2015          0.005472   0.020857      0.023889  0.994647  1.000000   \n",
       "Y2016          0.005247   0.020109      0.023444  0.996081  0.995739   \n",
       "Y2017          0.005006   0.021494      0.024254  0.995230  0.988048   \n",
       "Y2018          0.005665   0.021314      0.024279  0.994872  0.988208   \n",
       "\n",
       "                 Y2016     Y2017     Y2018  \n",
       "Area Code     0.005247  0.005006  0.005665  \n",
       "Item Code     0.020109  0.021494  0.021314  \n",
       "Element Code  0.023444  0.024254  0.024279  \n",
       "Y2014         0.996081  0.995230  0.994872  \n",
       "Y2015         0.995739  0.988048  0.988208  \n",
       "Y2016         1.000000  0.992785  0.992757  \n",
       "Y2017         0.992785  1.000000  0.998103  \n",
       "Y2018         0.992757  0.998103  1.000000  "
      ]
     },
     "execution_count": 30,
     "metadata": {},
     "output_type": "execute_result"
    }
   ],
   "source": [
    "#to find correlation\n",
    "csv_df.corr()"
   ]
  },
  {
   "cell_type": "code",
   "execution_count": null,
   "id": "e4fc4179",
   "metadata": {},
   "outputs": [],
   "source": []
  }
 ],
 "metadata": {
  "kernelspec": {
   "display_name": "Python 3 (ipykernel)",
   "language": "python",
   "name": "python3"
  },
  "language_info": {
   "codemirror_mode": {
    "name": "ipython",
    "version": 3
   },
   "file_extension": ".py",
   "mimetype": "text/x-python",
   "name": "python",
   "nbconvert_exporter": "python",
   "pygments_lexer": "ipython3",
   "version": "3.9.7"
  }
 },
 "nbformat": 4,
 "nbformat_minor": 5
}
